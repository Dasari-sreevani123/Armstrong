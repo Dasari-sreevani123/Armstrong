{
 "cells": [
  {
   "cell_type": "code",
   "execution_count": 1,
   "metadata": {},
   "outputs": [
    {
     "name": "stdout",
     "output_type": "stream",
     "text": [
      "153 is a Armstrong number.\n"
     ]
    }
   ],
   "source": [
    "#Armstrong number\n",
    "num = int(input(\"Enter a number:\"))  #num=153\n",
    "temp = num\n",
    "sum = 0\n",
    "while temp != 0:\n",
    "    order = len(str(num))\n",
    "    digit = temp % 10\n",
    "    sum = sum + pow(digit,order)\n",
    "    temp = temp // 10\n",
    "if num == sum:\n",
    "    print(f\"{num} is a Armstrong number.\")\n",
    "else:\n",
    "    print(f\"{num} is a  not Armstrong number\")\n",
    "\n",
    "\n"
   ]
  },
  {
   "cell_type": "code",
   "execution_count": 2,
   "metadata": {},
   "outputs": [
    {
     "name": "stdout",
     "output_type": "stream",
     "text": [
      "291 is a  not Armstrong number\n"
     ]
    }
   ],
   "source": [
    "#Armstrong number\n",
    "num = int(input(\"Enter a number:\"))  #num=291\n",
    "temp = num\n",
    "sum = 0\n",
    "while temp != 0:\n",
    "    order = len(str(num))\n",
    "    digit = temp % 10\n",
    "    sum = sum + pow(digit,order)\n",
    "    temp = temp // 10\n",
    "if num == sum:\n",
    "    print(f\"{num} is a Armstrong number.\")\n",
    "else:\n",
    "    print(f\"{num} is a  not Armstrong number\")\n",
    "\n",
    "\n"
   ]
  }
 ],
 "metadata": {
  "kernelspec": {
   "display_name": "Python 3",
   "language": "python",
   "name": "python3"
  },
  "language_info": {
   "codemirror_mode": {
    "name": "ipython",
    "version": 3
   },
   "file_extension": ".py",
   "mimetype": "text/x-python",
   "name": "python",
   "nbconvert_exporter": "python",
   "pygments_lexer": "ipython3",
   "version": "3.12.4"
  }
 },
 "nbformat": 4,
 "nbformat_minor": 2
}
